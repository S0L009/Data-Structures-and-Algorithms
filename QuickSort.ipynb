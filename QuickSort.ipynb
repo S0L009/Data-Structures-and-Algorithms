{
 "cells": [
  {
   "cell_type": "code",
   "execution_count": 1,
   "metadata": {},
   "outputs": [],
   "source": [
    "class QuickSort:\n",
    "    def Initialize(self,Arr):\n",
    "        return self.Quick_sort(Arr,0,len(Arr)-1)\n",
    "    \n",
    "    def Quick_sort(self,Arr,l,r):\n",
    "        if l+1==r:\n",
    "            if Arr[l]>Arr[r]:\n",
    "                temp=Arr[l]\n",
    "                Arr[l]=Arr[r]\n",
    "                Arr[r]=temp\n",
    "            return Arr\n",
    "        ll,rr=l,r\n",
    "        first=Arr[l]\n",
    "        l+=1\n",
    "        while l<=r:\n",
    "            if Arr[l]>first and Arr[r]<first:\n",
    "                temp=Arr[l]\n",
    "                Arr[l]=Arr[r]\n",
    "                Arr[r]=temp\n",
    "            \n",
    "            if Arr[l]<first:\n",
    "                l+=1\n",
    "            if Arr[r]>first:\n",
    "                r-=1\n",
    "        Arr[ll]=Arr[r]\n",
    "        Arr[r]=first\n",
    "        if r-1>ll:\n",
    "            Arr=self.Quick_sort(Arr,ll,r-1)\n",
    "        if r+1<rr:\n",
    "            Arr=self.Quick_sort(Arr,r+1,rr)\n",
    "        return Arr"
   ]
  },
  {
   "cell_type": "code",
   "execution_count": 4,
   "metadata": {},
   "outputs": [
    {
     "name": "stdout",
     "output_type": "stream",
     "text": [
      "Input => [-405, -547, -567, -264, -891, -278, -670, -314, -596, 139]\n",
      "\n",
      "Quick Sort Output ->  [-891, -670, -596, -567, -547, -405, -314, -278, -264, 139]\n",
      "\n",
      "Inbuilt sort output -> [-891, -670, -596, -567, -547, -405, -314, -278, -264, 139]\n",
      "😁 hehe...\n"
     ]
    }
   ],
   "source": [
    "import numpy as np\n",
    "Arr=np.random.randint(-1000,1000,size=(1,10))[0].tolist()\n",
    "print(f\"Input => {Arr}\\n\")\n",
    "ob=QuickSort()\n",
    "op_Quick=ob.Initialize(Arr)\n",
    "print(f\"Quick Sort Output ->  {op_Quick}\\n\")\n",
    "Arr.sort()\n",
    "print(f\"Inbuilt sort output -> {Arr}\")\n",
    "print(f\"{'😁 hehe...'}\") if Arr==op_Quick else print(f\"{'😭 Ahhh...'}\")"
   ]
  }
 ],
 "metadata": {
  "kernelspec": {
   "display_name": ".venv",
   "language": "python",
   "name": "python3"
  },
  "language_info": {
   "codemirror_mode": {
    "name": "ipython",
    "version": 3
   },
   "file_extension": ".py",
   "mimetype": "text/x-python",
   "name": "python",
   "nbconvert_exporter": "python",
   "pygments_lexer": "ipython3",
   "version": "3.11.7"
  }
 },
 "nbformat": 4,
 "nbformat_minor": 2
}
