{
 "cells": [
  {
   "cell_type": "code",
   "execution_count": 2,
   "metadata": {},
   "outputs": [],
   "source": [
    "class QuickSort:\n",
    "    def Initialize(self,Arr):\n",
    "        return self.Quick_sort(Arr,0,len(Arr)-1)\n",
    "    \n",
    "    def Quick_sort(self,Arr,l,r):\n",
    "        if l+1==r:\n",
    "            if Arr[l]>Arr[r]:\n",
    "                temp=Arr[l]\n",
    "                Arr[l]=Arr[r]\n",
    "                Arr[r]=temp\n",
    "            return Arr\n",
    "        ll,rr=l,r\n",
    "        first=Arr[l]\n",
    "        l+=1\n",
    "        while l<=r:\n",
    "            if Arr[l]>first and Arr[r]<first:\n",
    "                temp=Arr[l]\n",
    "                Arr[l]=Arr[r]\n",
    "                Arr[r]=temp\n",
    "            \n",
    "            if Arr[l]<first:\n",
    "                l+=1\n",
    "            if Arr[r]>first:\n",
    "                r-=1\n",
    "        Arr[ll]=Arr[r]\n",
    "        Arr[r]=first\n",
    "        if r-1>ll:\n",
    "            Arr=self.Quick_sort(Arr,ll,r-1)\n",
    "        if r+1<rr:\n",
    "            Arr=self.Quick_sort(Arr,r+1,rr)\n",
    "        return Arr"
   ]
  },
  {
   "cell_type": "code",
   "execution_count": 5,
   "metadata": {},
   "outputs": [
    {
     "name": "stdout",
     "output_type": "stream",
     "text": [
      "Input => [-829, 144, 242, -291, -255, 579, -177, 0, 670, 308]\n",
      "\n",
      "Quick Sort Output ->  [-829, -291, -255, -177, 0, 144, 242, 308, 579, 670]\n",
      "\n",
      "Inbuilt sort output -> [-829, -291, -255, -177, 0, 144, 242, 308, 579, 670]\n",
      "😁 hehe...\n"
     ]
    }
   ],
   "source": [
    "import numpy as np\n",
    "Arr=np.random.randint(-1000,1000,size=(1,10))[0].tolist()\n",
    "print(f\"Input => {Arr}\\n\")\n",
    "ob=QuickSort()\n",
    "op_Quick=ob.Initialize(Arr.copy())\n",
    "print(f\"Quick Sort Output ->  {op_Quick}\\n\")\n",
    "Arr.sort()\n",
    "print(f\"Inbuilt sort output -> {Arr}\")\n",
    "print(f\"{'😁 hehe...'}\") if Arr==op_Quick else print(f\"{'😭 Ahhh...'}\")"
   ]
  }
 ],
 "metadata": {
  "kernelspec": {
   "display_name": ".venv",
   "language": "python",
   "name": "python3"
  },
  "language_info": {
   "codemirror_mode": {
    "name": "ipython",
    "version": 3
   },
   "file_extension": ".py",
   "mimetype": "text/x-python",
   "name": "python",
   "nbconvert_exporter": "python",
   "pygments_lexer": "ipython3",
   "version": "3.11.7"
  }
 },
 "nbformat": 4,
 "nbformat_minor": 2
}
